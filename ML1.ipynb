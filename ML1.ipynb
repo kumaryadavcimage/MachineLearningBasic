{
 "cells": [
  {
   "cell_type": "markdown",
   "id": "1a1ce016-dd93-4038-90f5-6ab2619f112a",
   "metadata": {},
   "source": [
    "#### Q1 Explain the following with an example:\n",
    "a.Artificial intelligence\n",
    "\n",
    "b.Machine Learning\n",
    "\n",
    "c.Deep Learning"
   ]
  },
  {
   "cell_type": "markdown",
   "id": "4b693c15-d8fd-4179-ba57-251456215951",
   "metadata": {},
   "source": [
    "#### a.solve\n",
    "Artificial Intelligence (AI) refers to the development of computer systems that can perform tasks that typically require human intelligence. These tasks include learning, reasoning, problem-solving, perception, and language understanding.\n",
    "\n",
    "Example: siri, Google Assistant, Alexa"
   ]
  },
  {
   "cell_type": "markdown",
   "id": "005d2a6b-e516-4227-bbe1-b84c31159b4d",
   "metadata": {},
   "source": [
    "#### b.solve\n",
    "Machine Learning is a subset of artificial intelligence that focuses on developing algorithms and models.\n",
    "\n",
    "Example Data Collection, Data preprocessing, Feature Extraction, Model Tranning"
   ]
  },
  {
   "cell_type": "markdown",
   "id": "c0ec3c91-0984-4cc7-91e6-46927d5e5833",
   "metadata": {},
   "source": [
    "#### c.solve\n",
    "Deep Learning is a subset of machine learning that focuses on neural networking with network with many layers(deep neural networks).\n",
    "\n",
    "Example Data collection, Data preprocessing, Model Architecture"
   ]
  },
  {
   "cell_type": "markdown",
   "id": "4aefda57-b478-4c6a-9cd3-13cbc55983ef",
   "metadata": {},
   "source": [
    "#### Q2- What is supervised learning? List some examples of supervised learning."
   ]
  },
  {
   "cell_type": "markdown",
   "id": "205ec666-4d01-48b3-9860-55da90d1bbaf",
   "metadata": {},
   "source": [
    "#### solve\n",
    "Supervised learning is a type of machine learning where the algorithm is trained on a labled dataset, which means that the input data is paired with the corresponding correct output.\n",
    "\n",
    "Example of Supervised Learning:\n",
    "    predicting housing prices. you have a dataset with features such as the the size of house, the number of bedrooms, and the neighborhood, along with the corresponding actual sale prices. The goal is to train a model that can predict the sale price of a house given its features.\n",
    "    \n",
    "    Input Features(x)  : Size of the house\n",
    "    Output : sales price of the house"
   ]
  },
  {
   "cell_type": "markdown",
   "id": "a5a46c4d-e275-44b6-ba34-b90ce3d3a899",
   "metadata": {},
   "source": [
    "#### Q3: what is unsupervised learning? list some example of unsupervised learning."
   ]
  },
  {
   "cell_type": "markdown",
   "id": "f2eba0c9-6c31-4551-8cc5-e3fac9158510",
   "metadata": {},
   "source": [
    "#### solve\n",
    "Unsupervised learning is a type of machine learning where the algorithm is given a dataset without explicit labels or output information. The goal of unsupervised learning is to discover the inherent structure or patterns within the data. \n",
    "\n",
    "There are two types of unsupervised learning:\n",
    "    a.Clustering\n",
    "    b.Dimensionality Reduction\n",
    "    \n",
    "    Example of unsupervised learning: K-Means Clustring\n",
    "    Features\n",
    "    Data Collection\n",
    "    Data preprocessing\n",
    "    Model Tranning(K-Means Clustering)"
   ]
  },
  {
   "cell_type": "markdown",
   "id": "819cdaf3-2355-417c-9fcf-cbd74e0cb7e4",
   "metadata": {},
   "source": [
    "#### Q4. what is difference between AI,ML,DL,and DS?"
   ]
  },
  {
   "cell_type": "markdown",
   "id": "d070abe2-59fc-4d25-abe5-85c4a73a6656",
   "metadata": {},
   "source": [
    "#### solve\n",
    "AI (Artificial Intelligence), ML (Machine Learning), DL (Deep Learning), and DS (Data Science) are related fields but have distinct roles and purposes. \n",
    "\n",
    "a.Artificial intelligence(AI): AI refers to the development of computer system that can perform tasks that typically require human intelligence.\n",
    "    Example: Virtual personal assistants(e.g siri, Google Assistant)\n",
    "    \n",
    "b.Machine learning(ML): ML is a subset of AI that focuses on the development of algorithms and models that enable computers to learn patterns and make predictions or decision on data,without being explicitly programmed.\n",
    "    Example: Email spam filterning,image classification,recommendation system\n",
    "    \n",
    "c.Deep Larning(DL): DL is a subset of machine learning that invovles neural networks with many layers(deep neural networks). These network can automatically learn hierarchical representation of data.\n",
    "    Example:image and speech recongnition, netural language processing\n",
    "    \n",
    "d.Data Science(DS) DS is a broader field that invovles the extraction of insights and knowledge from data. it encompasses various techniques, including statistics, machine learning, data analysis, and data visualization\n",
    "    Example: Exploratory data analysis,predictive, data visualization"
   ]
  },
  {
   "cell_type": "markdown",
   "id": "91b269d7-9053-4019-9683-2ea30ddbfc0f",
   "metadata": {},
   "source": [
    "#### Q5: what are the main differences between supervised, unsupervised, and semi-supervised learning?"
   ]
  },
  {
   "cell_type": "markdown",
   "id": "a74eee1f-8fb1-4c20-829b-026e367505a1",
   "metadata": {},
   "source": [
    "#### solve\n",
    "Supervised learning is a type of machine learning where the algorithm is trained on a labled dataset, which means that the the input data is paired with the correspoonding correct output.\n",
    "\n",
    "Unsupervised learning is a type of machine learning learning where the algorithm is given a dataset without explicit lables or output information. The goal of unsupervised learning is to discover the inherent structure or patterns within the data.\n",
    "\n",
    "Semi-supervised learning is a type of machine learning that falls between the categories of supervised learning and unsupervise learning. In semi-supervised learning, the algorithm is trained on a dataset that contains a mixture of labled and unlabled data."
   ]
  },
  {
   "cell_type": "markdown",
   "id": "eeb5059b-03e3-43e6-a284-79024383794c",
   "metadata": {},
   "source": [
    "#### Q6: what is train, test and validation split? Explain the importance of each term."
   ]
  },
  {
   "cell_type": "markdown",
   "id": "2b163279-b81d-434f-a65a-55bc76a1849c",
   "metadata": {},
   "source": [
    "#### solve\n",
    "In machine learning, the dataset is typically divided into three subsets: the training set, the test set, a sometimes the validation set. \n",
    "\n",
    "Training set:\n",
    "    Purpose: The training set is used to train the machine learning model. During training, the model learns patterns and relationships in the data by adjusting its parameters based on the input features and corresponding target labels. example Percentage of the dataset (70% to 80%)\n",
    "\n",
    "Test set:\n",
    "    Purpose: The test set is used to evaluate the performance of the trained model on unseen data. It provides an unbiased estimate of the model's generalization to new, unseen examples percentage of the dataset(20% to 30%)\n",
    "\n",
    "Validation set:\n",
    "    Purpose: The validation set is used for model selection and hyperparameter tuning. It helps assess how well the model generalizes to data it hasn't seen during training and testing.\n",
    "    percentage of the Dataset: Percentage of the Dataset: The validation set is also a smaller portion, often around 10% to 20%. The split between the validation set and the training set may vary based on the size of the dataset and the specific requirements of the task.\n",
    "    "
   ]
  },
  {
   "cell_type": "markdown",
   "id": "fd2f90e4-17f8-4406-a3d1-0b27a5047887",
   "metadata": {},
   "source": [
    "#### Q7: How can unsupervised learning be used in anomaly dedection?"
   ]
  },
  {
   "cell_type": "markdown",
   "id": "2f312dbc-ffb3-4b63-8fd7-21159905e207",
   "metadata": {},
   "source": [
    "#### solve\n",
    "Unsupervised learning is a type of machine learning where the algorithm is given a dataset without explicit labels or output information. The goal of unsupervised learning is to discover the inherent structure or patterns within the data.\n",
    "\n",
    "unsupervised machine learning is commonly used in anomaly dedection becaused it can identify.pattern or behaviors that deviate significantly from the norm without requiring lableled examples of anomalies for training. Anomaly dedection, also known as outlier dedection, is the process of identifying instance that are rare, ususual, or different from the majority of the data.\n",
    "\n",
    "Unsupervised Anomaly Detection:\n",
    "    Network Security: Detection unusual pattern or activities in network traffic.\n",
    "    \n",
    "    Fraud Dedection: Identifying anomalous transactions or activities in financial transactions.\n",
    "    \n",
    "    \n",
    "    Maunfactturing Quality Control: Dedection defective products or anomalies in manufacturing processes.\n",
    "    \n",
    "    Healthcare Monitoring: Identifying unusual pattern in patient health data.\n",
    "    \n",
    "    Predictive Maintenance: Detecting anomalies in machinery or equiment to prevent failures."
   ]
  },
  {
   "cell_type": "markdown",
   "id": "45c2fd57-d54c-42f8-a891-44fa6a0e0e38",
   "metadata": {},
   "source": [
    "#### Q8: List down some commonly used supervised learning algorithms and unsupervised learning algorithms."
   ]
  },
  {
   "cell_type": "code",
   "execution_count": null,
   "id": "f82f2f4b-4bda-4c14-85ce-4d6406919e8e",
   "metadata": {},
   "outputs": [],
   "source": []
  }
 ],
 "metadata": {
  "kernelspec": {
   "display_name": "Python 3 (ipykernel)",
   "language": "python",
   "name": "python3"
  },
  "language_info": {
   "codemirror_mode": {
    "name": "ipython",
    "version": 3
   },
   "file_extension": ".py",
   "mimetype": "text/x-python",
   "name": "python",
   "nbconvert_exporter": "python",
   "pygments_lexer": "ipython3",
   "version": "3.10.8"
  }
 },
 "nbformat": 4,
 "nbformat_minor": 5
}
